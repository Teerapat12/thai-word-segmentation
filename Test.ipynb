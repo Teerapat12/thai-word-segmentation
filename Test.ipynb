{
 "cells": [
  {
   "cell_type": "code",
   "execution_count": 3,
   "metadata": {
    "collapsed": false
   },
   "outputs": [
    {
     "name": "stdout",
     "output_type": "stream",
     "text": [
      "[[[123, 131, 144, 155, 119, 136, 159, 119, 130, 131, 135, 129, 155, 133, 151, 141, 116, 155, 121, 151, 164, 141, 106, 146, 117, 148, 155, 106, 151, 164, 141, 159, 119, 130, 1, 155, 123, 162, 121, 123, 131, 144, 106, 146, 131, 145, 112, 159, 124, 119, 98, 141, 103, 159, 119, 130, 119, 152, 97, 138, 163, 135, 121, 1, 141, 130, 153, 163, 116, 147, 131, 103, 100, 103, 159, 135, 164, 159, 116, 164, 119, 145, 164, 103, 129, 135, 133, 1, 116, 164, 135, 130, 159, 119, 130, 133, 164, 135, 121, 139, 129, 146, 130, 131, 145, 97, 138, 146, 129, 145, 100, 100, 149, 1, 159, 119, 130, 121, 149, 164, 131, 145, 97, 138, 103, 122, 156, 117, 163, 118, 150, 103, 131, 122, 159, 129, 163, 98, 133, 146, 116, 1, 155, 141, 97, 131, 146, 106, 104, 144, 159, 129, 163, 158, 139, 164, 158, 100, 131, 98, 163, 129, 98, 149, 163, 1, 138, 133, 144, 155, 133, 151, 141, 116, 119, 152, 97, 139, 130, 146, 116, 155, 123, 162, 121, 106, 146, 117, 148, 126, 133, 149, 1, 155, 118, 133, 148, 103, 123, 131, 144, 155, 119, 136, 106, 146, 117, 148, 159, 119, 130, 119, 135, 149, 129, 149, 106, 145, 130, 106, 157, 130], [138, 135, 145, 138, 116, 149, 100, 131, 145, 122, 124, 129, 106, 151, 163, 141, 155, 100, 141, 148, 157, 103, 144]]]\n"
     ]
    },
    {
     "ename": "ValueError",
     "evalue": "No op named IteratorFromStringHandle in defined operations.",
     "output_type": "error",
     "traceback": [
      "\u001b[1;31m---------------------------------------------------------------------------\u001b[0m",
      "\u001b[1;31mValueError\u001b[0m                                Traceback (most recent call last)",
      "\u001b[1;32m<ipython-input-3-b813a6f4e97e>\u001b[0m in \u001b[0;36m<module>\u001b[1;34m()\u001b[0m\n\u001b[0;32m     24\u001b[0m \u001b[1;33m\u001b[0m\u001b[0m\n\u001b[0;32m     25\u001b[0m \u001b[1;32mwith\u001b[0m \u001b[0mtf\u001b[0m\u001b[1;33m.\u001b[0m\u001b[0mSession\u001b[0m\u001b[1;33m(\u001b[0m\u001b[1;33m)\u001b[0m \u001b[1;32mas\u001b[0m \u001b[0msession\u001b[0m\u001b[1;33m:\u001b[0m\u001b[1;33m\u001b[0m\u001b[0m\n\u001b[1;32m---> 26\u001b[1;33m     \u001b[0mmodel\u001b[0m \u001b[1;33m=\u001b[0m \u001b[0mtf\u001b[0m\u001b[1;33m.\u001b[0m\u001b[0msaved_model\u001b[0m\u001b[1;33m.\u001b[0m\u001b[0mloader\u001b[0m\u001b[1;33m.\u001b[0m\u001b[0mload\u001b[0m\u001b[1;33m(\u001b[0m\u001b[0msession\u001b[0m\u001b[1;33m,\u001b[0m \u001b[1;33m[\u001b[0m\u001b[0mtf\u001b[0m\u001b[1;33m.\u001b[0m\u001b[0msaved_model\u001b[0m\u001b[1;33m.\u001b[0m\u001b[0mtag_constants\u001b[0m\u001b[1;33m.\u001b[0m\u001b[0mSERVING\u001b[0m\u001b[1;33m]\u001b[0m\u001b[1;33m,\u001b[0m \u001b[0msaved_model_path\u001b[0m\u001b[1;33m)\u001b[0m\u001b[1;33m\u001b[0m\u001b[0m\n\u001b[0m\u001b[0;32m     27\u001b[0m     \u001b[0msignature\u001b[0m \u001b[1;33m=\u001b[0m \u001b[0mmodel\u001b[0m\u001b[1;33m.\u001b[0m\u001b[0msignature_def\u001b[0m\u001b[1;33m[\u001b[0m\u001b[0mtf\u001b[0m\u001b[1;33m.\u001b[0m\u001b[0msaved_model\u001b[0m\u001b[1;33m.\u001b[0m\u001b[0msignature_constants\u001b[0m\u001b[1;33m.\u001b[0m\u001b[0mDEFAULT_SERVING_SIGNATURE_DEF_KEY\u001b[0m\u001b[1;33m]\u001b[0m\u001b[1;33m\u001b[0m\u001b[0m\n\u001b[0;32m     28\u001b[0m     \u001b[0mgraph\u001b[0m \u001b[1;33m=\u001b[0m \u001b[0mtf\u001b[0m\u001b[1;33m.\u001b[0m\u001b[0mget_default_graph\u001b[0m\u001b[1;33m(\u001b[0m\u001b[1;33m)\u001b[0m\u001b[1;33m\u001b[0m\u001b[0m\n",
      "\u001b[1;32mC:\\Program Files\\Anaconda3\\lib\\site-packages\\tensorflow\\python\\saved_model\\loader_impl.py\u001b[0m in \u001b[0;36mload\u001b[1;34m(sess, tags, export_dir, **saver_kwargs)\u001b[0m\n\u001b[0;32m    211\u001b[0m \u001b[1;33m\u001b[0m\u001b[0m\n\u001b[0;32m    212\u001b[0m     \u001b[1;31m# Build a saver by importing the meta graph def to load.\u001b[0m\u001b[1;33m\u001b[0m\u001b[1;33m\u001b[0m\u001b[0m\n\u001b[1;32m--> 213\u001b[1;33m     \u001b[0msaver\u001b[0m \u001b[1;33m=\u001b[0m \u001b[0mtf_saver\u001b[0m\u001b[1;33m.\u001b[0m\u001b[0mimport_meta_graph\u001b[0m\u001b[1;33m(\u001b[0m\u001b[0mmeta_graph_def_to_load\u001b[0m\u001b[1;33m,\u001b[0m \u001b[1;33m**\u001b[0m\u001b[0msaver_kwargs\u001b[0m\u001b[1;33m)\u001b[0m\u001b[1;33m\u001b[0m\u001b[0m\n\u001b[0m\u001b[0;32m    214\u001b[0m \u001b[1;33m\u001b[0m\u001b[0m\n\u001b[0;32m    215\u001b[0m     \u001b[1;32mif\u001b[0m \u001b[0msaver\u001b[0m\u001b[1;33m:\u001b[0m\u001b[1;33m\u001b[0m\u001b[0m\n",
      "\u001b[1;32mC:\\Program Files\\Anaconda3\\lib\\site-packages\\tensorflow\\python\\training\\saver.py\u001b[0m in \u001b[0;36mimport_meta_graph\u001b[1;34m(meta_graph_or_file, clear_devices, import_scope, **kwargs)\u001b[0m\n\u001b[0;32m   1684\u001b[0m                                       \u001b[0mclear_devices\u001b[0m\u001b[1;33m=\u001b[0m\u001b[0mclear_devices\u001b[0m\u001b[1;33m,\u001b[0m\u001b[1;33m\u001b[0m\u001b[0m\n\u001b[0;32m   1685\u001b[0m                                       \u001b[0mimport_scope\u001b[0m\u001b[1;33m=\u001b[0m\u001b[0mimport_scope\u001b[0m\u001b[1;33m,\u001b[0m\u001b[1;33m\u001b[0m\u001b[0m\n\u001b[1;32m-> 1686\u001b[1;33m                                       **kwargs)\n\u001b[0m\u001b[0;32m   1687\u001b[0m   \u001b[1;32mif\u001b[0m \u001b[0mmeta_graph_def\u001b[0m\u001b[1;33m.\u001b[0m\u001b[0mHasField\u001b[0m\u001b[1;33m(\u001b[0m\u001b[1;34m\"saver_def\"\u001b[0m\u001b[1;33m)\u001b[0m\u001b[1;33m:\u001b[0m\u001b[1;33m\u001b[0m\u001b[0m\n\u001b[0;32m   1688\u001b[0m     \u001b[1;32mreturn\u001b[0m \u001b[0mSaver\u001b[0m\u001b[1;33m(\u001b[0m\u001b[0msaver_def\u001b[0m\u001b[1;33m=\u001b[0m\u001b[0mmeta_graph_def\u001b[0m\u001b[1;33m.\u001b[0m\u001b[0msaver_def\u001b[0m\u001b[1;33m,\u001b[0m \u001b[0mname\u001b[0m\u001b[1;33m=\u001b[0m\u001b[0mimport_scope\u001b[0m\u001b[1;33m)\u001b[0m\u001b[1;33m\u001b[0m\u001b[0m\n",
      "\u001b[1;32mC:\\Program Files\\Anaconda3\\lib\\site-packages\\tensorflow\\python\\framework\\meta_graph.py\u001b[0m in \u001b[0;36mimport_scoped_meta_graph\u001b[1;34m(meta_graph_or_file, clear_devices, graph, import_scope, input_map, unbound_inputs_col_name, restore_collections_predicate)\u001b[0m\n\u001b[0;32m    502\u001b[0m     importer.import_graph_def(\n\u001b[0;32m    503\u001b[0m         \u001b[0minput_graph_def\u001b[0m\u001b[1;33m,\u001b[0m \u001b[0mname\u001b[0m\u001b[1;33m=\u001b[0m\u001b[1;33m(\u001b[0m\u001b[0mimport_scope\u001b[0m \u001b[1;32mor\u001b[0m \u001b[1;34m\"\"\u001b[0m\u001b[1;33m)\u001b[0m\u001b[1;33m,\u001b[0m \u001b[0minput_map\u001b[0m\u001b[1;33m=\u001b[0m\u001b[0minput_map\u001b[0m\u001b[1;33m,\u001b[0m\u001b[1;33m\u001b[0m\u001b[0m\n\u001b[1;32m--> 504\u001b[1;33m         producer_op_list=producer_op_list)\n\u001b[0m\u001b[0;32m    505\u001b[0m \u001b[1;33m\u001b[0m\u001b[0m\n\u001b[0;32m    506\u001b[0m     scope_to_prepend_to_names = \"/\".join(\n",
      "\u001b[1;32mC:\\Program Files\\Anaconda3\\lib\\site-packages\\tensorflow\\python\\framework\\importer.py\u001b[0m in \u001b[0;36mimport_graph_def\u001b[1;34m(graph_def, input_map, return_elements, name, op_dict, producer_op_list)\u001b[0m\n\u001b[0;32m    281\u001b[0m       \u001b[1;31m# Set any default attr values that aren't present.\u001b[0m\u001b[1;33m\u001b[0m\u001b[1;33m\u001b[0m\u001b[0m\n\u001b[0;32m    282\u001b[0m       \u001b[1;32mif\u001b[0m \u001b[0mnode\u001b[0m\u001b[1;33m.\u001b[0m\u001b[0mop\u001b[0m \u001b[1;32mnot\u001b[0m \u001b[1;32min\u001b[0m \u001b[0mop_dict\u001b[0m\u001b[1;33m:\u001b[0m\u001b[1;33m\u001b[0m\u001b[0m\n\u001b[1;32m--> 283\u001b[1;33m         \u001b[1;32mraise\u001b[0m \u001b[0mValueError\u001b[0m\u001b[1;33m(\u001b[0m\u001b[1;34m'No op named %s in defined operations.'\u001b[0m \u001b[1;33m%\u001b[0m \u001b[0mnode\u001b[0m\u001b[1;33m.\u001b[0m\u001b[0mop\u001b[0m\u001b[1;33m)\u001b[0m\u001b[1;33m\u001b[0m\u001b[0m\n\u001b[0m\u001b[0;32m    284\u001b[0m       \u001b[0mop_def\u001b[0m \u001b[1;33m=\u001b[0m \u001b[0mop_dict\u001b[0m\u001b[1;33m[\u001b[0m\u001b[0mnode\u001b[0m\u001b[1;33m.\u001b[0m\u001b[0mop\u001b[0m\u001b[1;33m]\u001b[0m\u001b[1;33m\u001b[0m\u001b[0m\n\u001b[0;32m    285\u001b[0m       \u001b[1;32mfor\u001b[0m \u001b[0mattr_def\u001b[0m \u001b[1;32min\u001b[0m \u001b[0mop_def\u001b[0m\u001b[1;33m.\u001b[0m\u001b[0mattr\u001b[0m\u001b[1;33m:\u001b[0m\u001b[1;33m\u001b[0m\u001b[0m\n",
      "\u001b[1;31mValueError\u001b[0m: No op named IteratorFromStringHandle in defined operations."
     ]
    }
   ],
   "source": [
    "from thainlplib import ThaiWordSegmentLabeller\n",
    "import tensorflow as tf\n",
    "\n",
    "saved_model_path='saved_model'\n",
    "\n",
    "text = \"\"\"ประเทศไทยรวมเลือดเนื้อชาติเชื้อไทย\n",
    "เป็นประชารัฐไผทของไทยทุกส่วน\n",
    "อยู่ดำรงคงไว้ได้ทั้งมวล\n",
    "ด้วยไทยล้วนหมายรักสามัคคี\n",
    "ไทยนี้รักสงบแต่ถึงรบไม่ขลาด\n",
    "เอกราชจะไม่ให้ใครข่มขี่\n",
    "สละเลือดทุกหยาดเป็นชาติพลี\n",
    "เถลิงประเทศชาติไทยทวีมีชัยชโย\"\"\"\n",
    "inputs = [ThaiWordSegmentLabeller.get_input_labels(text)]\n",
    "inputs = [ThaiWordSegmentLabeller.get_inputs_labels([text,\"สวัสดีครับผมชื่อเคอิโงะ\"])]\n",
    "print(inputs[0:1])\n",
    "lengths = [len(text)]\n",
    "\n",
    "def nonzero(a):\n",
    "    return [i for i, e in enumerate(a) if e != 0]\n",
    "\n",
    "def split(s, indices):\n",
    "    return [s[i:j] for i,j in zip(indices, indices[1:]+[None])]\n",
    "\n",
    "with tf.Session() as session:\n",
    "    model = tf.saved_model.loader.load(session, [tf.saved_model.tag_constants.SERVING], saved_model_path)\n",
    "    signature = model.signature_def[tf.saved_model.signature_constants.DEFAULT_SERVING_SIGNATURE_DEF_KEY]\n",
    "    graph = tf.get_default_graph()\n",
    "\n",
    "    g_inputs = graph.get_tensor_by_name(signature.inputs['inputs'].name)\n",
    "    g_lengths = graph.get_tensor_by_name(signature.inputs['lengths'].name)\n",
    "    g_training = graph.get_tensor_by_name(signature.inputs['training'].name)\n",
    "    g_outputs = graph.get_tensor_by_name(signature.outputs['outputs'].name)\n",
    "    y = session.run(g_outputs, feed_dict = {g_inputs: inputs, g_lengths: lengths, g_training: False})\n",
    "\n",
    "    for w in split(text, nonzero(y)): print(w, end='|')\n",
    "    print()\n"
   ]
  },
  {
   "cell_type": "code",
   "execution_count": null,
   "metadata": {
    "collapsed": true
   },
   "outputs": [],
   "source": []
  }
 ],
 "metadata": {
  "kernelspec": {
   "display_name": "Python [conda root]",
   "language": "python",
   "name": "conda-root-py"
  },
  "language_info": {
   "codemirror_mode": {
    "name": "ipython",
    "version": 3
   },
   "file_extension": ".py",
   "mimetype": "text/x-python",
   "name": "python",
   "nbconvert_exporter": "python",
   "pygments_lexer": "ipython3",
   "version": "3.5.3"
  }
 },
 "nbformat": 4,
 "nbformat_minor": 2
}
